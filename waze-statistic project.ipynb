{
 "cells": [
  {
   "cell_type": "markdown",
   "id": "f890174e-98c9-444b-aec8-6eb2b14ea523",
   "metadata": {},
   "source": [
    "#  Data exploration and hypothesis testing:\n",
    "\n",
    " \n",
    "<br/>\n",
    "\n",
    "**The purpose** of this project is to demonstrate knowledge of how to conduct a two-sample hypothesis test.\n",
    "\n",
    "**The goal** is to apply descriptive statistics and hypothesis testing in Python.\n",
    "<br/>\n",
    "\n",
    "*This activity has three parts:*\n",
    "\n",
    "**Part 1:** Imports and data loading\n",
    "* What data packages will be necessary for hypothesis testing?\n",
    "\n",
    "**Part 2:** Conduct hypothesis testing\n",
    "* How did computing descriptive statistics help you analyze your data?\n",
    "\n",
    "* How did you formulate your null hypothesis and alternative hypothesis?\n",
    "\n",
    "**Part 3:** Communicate insights with stakeholders\n",
    "\n",
    "* What key business insight(s) emerged from your hypothesis test?\n",
    "\n",
    "* What business recommendations do you propose based on your results?\n",
    "\n",
    "<br/>"
   ]
  },
  {
   "cell_type": "markdown",
   "id": "836fd91c-4253-48b4-b083-8aad7b25ec4f",
   "metadata": {},
   "source": [
    "**Research question:**\n",
    "\n",
    "* \"Do drivers who open the application using an iPhone have the same number of drives on average as drivers who use Android devices?\""
   ]
  },
  {
   "cell_type": "markdown",
   "id": "48bed9df-f0b8-4ed3-a87f-9268d041855f",
   "metadata": {},
   "source": [
    "# Task 1. Imports and data loading\n",
    "* Import packages and libraries needed to compute descriptive statistics and conduct a hypothesis test."
   ]
  },
  {
   "cell_type": "code",
   "execution_count": 5,
   "id": "af727b5a-79cd-4b5e-8f8c-e3b3be19013b",
   "metadata": {},
   "outputs": [],
   "source": [
    "#importing packages and libraries\n",
    "import pandas as pd\n",
    "from scipy import stats"
   ]
  },
  {
   "cell_type": "code",
   "execution_count": 13,
   "id": "c52796b8-4ab2-41ed-af2b-bbdea8b1a3d7",
   "metadata": {},
   "outputs": [],
   "source": [
    "# Load dataset into dataframe\n",
    "df = pd.read_csv(r\"C:\\Users\\akhil\\OneDrive\\Desktop\\projects\\waze\\waze_dataset.csv\", encoding=\"unicode_escape\")"
   ]
  },
  {
   "cell_type": "markdown",
   "id": "548c8542-2bc2-4b0e-9bb2-d8700bc97a3c",
   "metadata": {},
   "source": [
    "# Task 2. Data exploration\n",
    "* Use descriptive statistics to conduct exploratory data analysis (EDA).\n",
    "\n"
   ]
  },
  {
   "cell_type": "code",
   "execution_count": 14,
   "id": "032da237-0742-4406-a1e1-53e11b11d380",
   "metadata": {},
   "outputs": [
    {
     "data": {
      "text/plain": [
       "0    2\n",
       "1    1\n",
       "2    2\n",
       "3    1\n",
       "4    2\n",
       "Name: device_type, dtype: int64"
      ]
     },
     "execution_count": 14,
     "metadata": {},
     "output_type": "execute_result"
    }
   ],
   "source": [
    "# 1. Create `map_dictionary`\n",
    "map_dictionary = {'Android': 2, 'iPhone': 1}\n",
    "\n",
    "# 2. Create new `device_type` column\n",
    "df['device_type'] = df['device']\n",
    "\n",
    "# 3. Map the new column to the dictionary\n",
    "df['device_type'] = df['device_type'].map(map_dictionary)\n",
    "\n",
    "df['device_type'].head()"
   ]
  },
  {
   "cell_type": "code",
   "execution_count": 15,
   "id": "caa2f3e3-6393-44ac-8636-8fb9a3223290",
   "metadata": {},
   "outputs": [
    {
     "data": {
      "text/plain": [
       "device_type\n",
       "1    67.859078\n",
       "2    66.231838\n",
       "Name: drives, dtype: float64"
      ]
     },
     "execution_count": 15,
     "metadata": {},
     "output_type": "execute_result"
    }
   ],
   "source": [
    "#finding averages\n",
    "df.groupby('device_type')['drives'].mean()"
   ]
  },
  {
   "cell_type": "markdown",
   "id": "df16f2f5-08d8-48e1-b755-f3ad0be4ca25",
   "metadata": {},
   "source": [
    "* Based on the averages shown, it appears that drivers who use an iPhone device to interact with the application have a higher number of drives on average. However, this difference might arise from random sampling, rather than being a true difference in the number of drives. To assess whether the difference is statistically significant,  conducting a hypothesis test."
   ]
  },
  {
   "cell_type": "markdown",
   "id": "6b18d36d-e120-4611-96bd-896d7373f176",
   "metadata": {},
   "source": [
    "# Hypotheses:\n",
    "\n",
    "* 𝐻0\n",
    " : There is no difference in average number of drives between drivers who use iPhone devices and drivers who use Androids.\n",
    "\n",
    "* 𝐻𝐴\n",
    " : There is a difference in average number of drives between drivers who use iPhone devices and drivers who use Androids."
   ]
  },
  {
   "cell_type": "markdown",
   "id": "dc690fca-12e1-49e3-9975-9a1013ef8449",
   "metadata": {},
   "source": [
    "* Next, choose 5% as the significance level and proceed with a two-sample t-test."
   ]
  },
  {
   "cell_type": "code",
   "execution_count": 16,
   "id": "09e8c668-7f8e-495e-b23b-8179980adeed",
   "metadata": {},
   "outputs": [
    {
     "data": {
      "text/plain": [
       "TtestResult(statistic=np.float64(1.463523206885235), pvalue=np.float64(0.14335197268020597), df=np.float64(11345.066049381952))"
      ]
     },
     "execution_count": 16,
     "metadata": {},
     "output_type": "execute_result"
    }
   ],
   "source": [
    "# 1. Isolate the `drives` column for iPhone users.\n",
    "iPhone = df[df['device_type'] == 1]['drives']\n",
    "\n",
    "# 2. Isolate the `drives` column for Android users.\n",
    "Android = df[df['device_type'] == 2]['drives']\n",
    "\n",
    "# 3. Perform the t-test\n",
    "stats.ttest_ind(a=iPhone, b=Android, equal_var=False)"
   ]
  },
  {
   "cell_type": "markdown",
   "id": "d7fa4e5f-b81a-4dc5-b618-8e2df4239db1",
   "metadata": {},
   "source": [
    "* Since the p-value is larger than the chosen significance level (5%), you fail to reject the null hypothesis. You conclude that there is not a statistically significant difference in the average number of drives between drivers who use iPhones and drivers who use Androids."
   ]
  },
  {
   "cell_type": "markdown",
   "id": "3f3887ce-471b-43f5-a64d-287c883f8ee2",
   "metadata": {},
   "source": [
    "# Insights:\n",
    "* The key business insight is that drivers who use iPhone devices on average have a similar number of drives as those who use Androids.\n",
    "* One potential next step is to explore what other factors influence the variation in the number of drives, and run additonal hypothesis tests to learn more about user behavior. Further, temporary changes in marketing or user interface for the Waze app may provide more data to investigate churn."
   ]
  },
  {
   "cell_type": "markdown",
   "id": "6317e73c-07b0-4882-947d-7e08c7e3e9f7",
   "metadata": {},
   "source": [
    "* Thank You."
   ]
  }
 ],
 "metadata": {
  "kernelspec": {
   "display_name": "Python 3 (ipykernel)",
   "language": "python",
   "name": "python3"
  },
  "language_info": {
   "codemirror_mode": {
    "name": "ipython",
    "version": 3
   },
   "file_extension": ".py",
   "mimetype": "text/x-python",
   "name": "python",
   "nbconvert_exporter": "python",
   "pygments_lexer": "ipython3",
   "version": "3.13.1"
  }
 },
 "nbformat": 4,
 "nbformat_minor": 5
}
